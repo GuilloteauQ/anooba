{
 "cells": [
  {
   "cell_type": "code",
   "execution_count": null,
   "id": "2eb52992-c16c-47cf-9377-5edc617a6af3",
   "metadata": {},
   "outputs": [],
   "source": [
    "import numpy as np\n",
    "import scipy as sp\n",
    "import matplotlib.pyplot as plt\n",
    "import pandas as pd\n",
    "import statsmodels.api as sm\n",
    "from statsmodels.formula.api import ols\n",
    "from statsmodels.stats.multicomp import pairwise_tukeyhsd"
   ]
  },
  {
   "cell_type": "code",
   "execution_count": null,
   "id": "81ee48aa-8117-45b5-ae5e-5c58225923c8",
   "metadata": {},
   "outputs": [],
   "source": [
    "df = pd.read_csv(\"data.csv\", sep=',')\n",
    "# Limiting ourselves to a subset of the data\n",
    "df = df[(df[\"script\"] == \"cc\") & (df[\"slurm_partition\"] == \"xeon\") & (df[\"victim_selection\"] == \"SEQ\")]\n",
    "# Getting rid of the columns that do not matter here\n",
    "df = df.drop([\"do_log\", \"matrix_name\", \"script\", \"slurm_partition\", \"victim_selection\"], axis = 1)\n",
    "df"
   ]
  },
  {
   "cell_type": "markdown",
   "id": "c48717bd-95ee-47eb-9ee8-b1f0bd277abf",
   "metadata": {},
   "source": [
    "The question that we are asking ourselves: what is the impact of `scheme`, `layout` and their interaction ?"
   ]
  },
  {
   "cell_type": "code",
   "execution_count": null,
   "id": "dca0a9f0-91cf-46b7-b8c1-77e9defe8f3e",
   "metadata": {},
   "outputs": [],
   "source": [
    "df.boxplot(column=\"exec_time\", by=\"scheme\", rot=90)\n",
    "plt.xlabel(\"\")\n",
    "plt.ylabel(\"Execution time [s]\")\n",
    "plt.title(\"\")\n",
    "plt.ylim(bottom=0) "
   ]
  },
  {
   "cell_type": "code",
   "execution_count": null,
   "id": "ab244088-6617-4d3a-b949-eb9979cf4750",
   "metadata": {},
   "outputs": [],
   "source": [
    "df.boxplot(column=\"exec_time\", by=\"layout\")\n",
    "plt.xlabel(\"\")\n",
    "plt.ylabel(\"Execution time [s]\")\n",
    "plt.title(\"\")\n",
    "plt.ylim(bottom=0) "
   ]
  },
  {
   "cell_type": "code",
   "execution_count": null,
   "id": "3e898099-42a8-434d-a5d8-613a7d1384ce",
   "metadata": {},
   "outputs": [],
   "source": [
    "moore_lm = ols('exec_time ~ layout * scheme', data = df).fit()"
   ]
  },
  {
   "cell_type": "code",
   "execution_count": null,
   "id": "2e794776-5148-43ea-8206-5d846d554c27",
   "metadata": {},
   "outputs": [],
   "source": [
    "table = sm.stats.anova_lm(moore_lm, typ=1)\n",
    "table"
   ]
  },
  {
   "cell_type": "code",
   "execution_count": null,
   "id": "61a81a65-273a-4bd3-9a69-766ae58afbc4",
   "metadata": {},
   "outputs": [],
   "source": [
    "results = pairwise_tukeyhsd(df[\"exec_time\"], df[\"layout\"])"
   ]
  },
  {
   "cell_type": "code",
   "execution_count": null,
   "id": "c2e05051-b517-4393-a1e2-e449b212b509",
   "metadata": {},
   "outputs": [],
   "source": [
    "print(results)"
   ]
  },
  {
   "cell_type": "code",
   "execution_count": null,
   "id": "fb9e8f0d-f3ef-4c8c-8df9-8a4e328dce42",
   "metadata": {},
   "outputs": [],
   "source": [
    "groups = list(map(lambda layout: df[df[\"layout\"] == layout][\"exec_time\"], df[\"layout\"].unique()))\n",
    "sp.stats.f_oneway(*groups)"
   ]
  },
  {
   "cell_type": "code",
   "execution_count": null,
   "id": "229e68ea-4bdc-4557-a30d-cecb06b32120",
   "metadata": {},
   "outputs": [],
   "source": [
    "fvalue, pvalue = sp.stats.f_oneway(\n",
    "    df[df[\"layout\"] == \"CENTRALIZED\"][\"exec_time\"],\n",
    "    df[df[\"layout\"] == \"PERGROUP\"][\"exec_time\"],\n",
    "    df[df[\"layout\"] == \"PERCPU\"][\"exec_time\"])\n",
    "pvalue"
   ]
  },
  {
   "cell_type": "code",
   "execution_count": null,
   "id": "dd6255b8-56e3-48ea-8fea-3b5b788dabef",
   "metadata": {},
   "outputs": [],
   "source": [
    "print(sp.stats.tukey_hsd(\n",
    "    df[df[\"layout\"] == \"CENTRALIZED\"][\"exec_time\"],\n",
    "    df[df[\"layout\"] == \"PERGROUP\"][\"exec_time\"],\n",
    "    df[df[\"layout\"] == \"PERCPU\"][\"exec_time\"]))"
   ]
  },
  {
   "cell_type": "code",
   "execution_count": null,
   "id": "eb986588-a7d0-4025-b77a-0ac5f52ca62e",
   "metadata": {},
   "outputs": [],
   "source": [
    "scheme_names = df[\"scheme\"].unique()\n",
    "groups = list(map(lambda scheme: df[df[\"scheme\"] == scheme][\"exec_time\"], scheme_names))\n",
    "sp.stats.f_oneway(*groups)\n",
    "\n",
    "results = pairwise_tukeyhsd(df[\"exec_time\"], df[\"scheme\"])\n",
    "print(results)"
   ]
  },
  {
   "cell_type": "code",
   "execution_count": null,
   "id": "7a40274b-812d-4685-b1d9-0be8ecc59779",
   "metadata": {},
   "outputs": [],
   "source": [
    "print(sp.stats.tukey_hsd(*groups))"
   ]
  },
  {
   "cell_type": "code",
   "execution_count": null,
   "id": "26e2273a-ea8f-4771-843d-3b70e1e32d4e",
   "metadata": {},
   "outputs": [],
   "source": [
    "df_summarized = df.groupby([\"scheme\", \"layout\"], as_index=False).mean().sort_values(by=[\"layout\", \"exec_time\"])"
   ]
  },
  {
   "cell_type": "code",
   "execution_count": null,
   "id": "bca8cdf2-1441-44f4-8fee-ea74af09e17d",
   "metadata": {},
   "outputs": [],
   "source": [
    "for layout in df_summarized[\"layout\"].unique():\n",
    "    df_tmp = df_summarized[df_summarized[\"layout\"] == layout]\n",
    "    x = df_tmp[\"scheme\"]\n",
    "    y = df_tmp[\"exec_time\"]\n",
    "    x_line = list(range(len(y.index)))\n",
    "    m, b = np.polyfit(x_line, y.values, deg=1)\n",
    "    y_line = list(map(lambda a: a * m + b, x_line))\n",
    "    p0 = plt.plot(x, y, \"o\")\n",
    "    plt.plot(x_line, y_line, linestyle=\"dashed\", color=p0[0].get_color(), label=layout)\n",
    "\n",
    "plt.xlabel(\"Scheduling scheme\")\n",
    "plt.ylabel(\"Execution time [s]\")\n",
    "plt.title(\"\")\n",
    "plt.ylim(bottom=0)\n",
    "plt.xticks(rotation=45)\n",
    "plt.legend()\n",
    "plt.show()"
   ]
  },
  {
   "cell_type": "code",
   "execution_count": null,
   "id": "5382377c-48ce-42e7-a896-efef53d5ccb2",
   "metadata": {},
   "outputs": [],
   "source": []
  }
 ],
 "metadata": {
  "kernelspec": {
   "display_name": "Python 3 (ipykernel)",
   "language": "python",
   "name": "python3"
  },
  "language_info": {
   "codemirror_mode": {
    "name": "ipython",
    "version": 3
   },
   "file_extension": ".py",
   "mimetype": "text/x-python",
   "name": "python",
   "nbconvert_exporter": "python",
   "pygments_lexer": "ipython3",
   "version": "3.11.6"
  }
 },
 "nbformat": 4,
 "nbformat_minor": 5
}
